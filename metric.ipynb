{
 "cells": [
  {
   "cell_type": "code",
   "execution_count": null,
   "metadata": {},
   "outputs": [],
   "source": [
    "import cv2\n",
    "import numpy as np\n",
    "from PIL import Image\n",
    "\n",
    "image_path = '5350002-1999-0001-0017.jpg'\n",
    "image = cv2.imread(image_path)\n",
    "import matplotlib.pyplot as plt\n",
    "\n",
    "image = cv2.cvtColor(image, cv2.COLOR_BGR2RGB)\n",
    "plt.figure(figsize=(8, 8))\n",
    "plt.imshow(image)\n",
    "plt.axis('off')\n",
    "plt.show()\n"
   ]
  },
  {
   "cell_type": "code",
   "execution_count": null,
   "metadata": {},
   "outputs": [],
   "source": [
    "with open('res_5350002-1999-0001-0017.txt', 'r', encoding='utf-8') as f:\n",
    "    lines = f.readlines()\n",
    "\n",
    "gt_bboxes = []\n",
    "for line in lines:\n",
    "    coords = line.split(',')[:8]\n",
    "    \n",
    "    coords = [int(coord) for coord in coords]\n",
    "    gt_bboxes.append(np.array([[coords[i], coords[i+1]] for i in range(0, len(coords), 2)]))\n",
    "gt_bboxes[0]"
   ]
  },
  {
   "cell_type": "code",
   "execution_count": null,
   "metadata": {},
   "outputs": [],
   "source": [
    "image_gt = image.copy()\n",
    "image_gt = cv2.polylines(image_gt,[bbox for bbox in gt_bboxes], True, (0, 0, 255), 2)\n",
    "plt.figure(figsize=(8, 8))\n",
    "plt.imshow(image_gt)\n",
    "plt.axis('off')\n",
    "plt.show()"
   ]
  },
  {
   "cell_type": "code",
   "execution_count": null,
   "metadata": {},
   "outputs": [],
   "source": [
    "with open('5350002-1999-0001-0017_infered.txt', 'r', encoding='utf-8') as f:\n",
    "    dlines = f.readlines()\n",
    "\n",
    "dt_bboxes = []\n",
    "for line in dlines:\n",
    "    coords = line.strip().split(',')\n",
    "    coords = [int(coord) for coord in coords]\n",
    "    grouped_coords = [[coords[i], coords[i+1]] for i in range(0, len(coords), 2)]\n",
    "    dt_bboxes.append(grouped_coords)\n"
   ]
  },
  {
   "cell_type": "code",
   "execution_count": null,
   "metadata": {},
   "outputs": [],
   "source": [
    "image_dt = image.copy()\n",
    "contours = np.array(dt_bboxes, dtype=np.int32)\n",
    "cv2.drawContours(image_dt, contours, -1, (255, 0, 0), 2)\n",
    "\n",
    "plt.figure(figsize=(8, 8))\n",
    "plt.imshow(image_dt)\n",
    "plt.axis('off')\n",
    "plt.show()"
   ]
  },
  {
   "cell_type": "code",
   "execution_count": 86,
   "metadata": {},
   "outputs": [
    {
     "data": {
      "text/plain": [
       "(3507, 2480, 3)"
      ]
     },
     "execution_count": 86,
     "metadata": {},
     "output_type": "execute_result"
    }
   ],
   "source": [
    "image_dt.shape"
   ]
  },
  {
   "cell_type": "code",
   "execution_count": 2,
   "metadata": {},
   "outputs": [
    {
     "data": {
      "image/png": "[encoded data removed]",
      "text/plain": [
       "<Figure size 800x800 with 1 Axes>"
      ]
     },
     "metadata": {},
     "output_type": "display_data"
    }
   ],
   "source": [
    "import matplotlib.pyplot as plt\n",
    "import numpy as np\n",
    "\n",
    "coords1 = [25,7,24,8,24,9,24,10,24,12,24,13,24,14,24,15,24,17,24,18,24,19,24,21,24,22,24,24,24,26,25,26,26,26,28,26,29,26,30,26,31,26,32,26,34,26,35,26,36,27,38,27,39,27,40,27,42,26,42,26,44,26,46,26,47,26,48,26,50,26,51,26,52,26,53,26,55,26,56,26,57,26,58,26,60,26,61,26,62,26,64,26,64,26,66,26,67,26,70,26,71,26,71,24,71,22,71,21,71,19,71,18,71,17,71,15,71,14,71,13,71,11,71,9,71,7,71,5,70,4,69,4,67,4,67,4,65,4,63,4,62,4,60,5,59,5,58,5,56,5,55,5,54,5,53,5,52,5,50,5,49,5,48,5,46,4,45,4,43,5,42,5,42,4,39,5,39,5,37,4,35,4,35,4,33,4,32,4,31,4,29,5,28,5,27,5,25,5,25,5]\n",
    "coords2 = [25,6,72,6,72,28,25,28]\n",
    "\n",
    "polygon1 = np.array(coords1).reshape(-1, 2)\n",
    "polygon2 = np.array(coords2).reshape(-1, 2)\n",
    "\n",
    "plt.figure(figsize=(8, 8))\n",
    "plt.plot(polygon1[:, 0], polygon1[:, 1], 'r-', label='Polygon 1')\n",
    "plt.plot(polygon2[:, 0], polygon2[:, 1], 'b-', label='Polygon 2')\n",
    "plt.fill(polygon1[:, 0], polygon1[:, 1], 'r', alpha=0.3)\n",
    "plt.fill(polygon2[:, 0], polygon2[:, 1], 'b', alpha=0.3)\n",
    "plt.legend()\n",
    "plt.axis('equal')\n",
    "plt.show()\n"
   ]
  },
  {
   "cell_type": "code",
   "execution_count": null,
   "metadata": {},
   "outputs": [],
   "source": []
  }
 ],
 "metadata": {
  "kernelspec": {
   "display_name": "ocr",
   "language": "python",
   "name": "python3"
  },
  "language_info": {
   "codemirror_mode": {
    "name": "ipython",
    "version": 3
   },
   "file_extension": ".py",
   "mimetype": "text/x-python",
   "name": "python",
   "nbconvert_exporter": "python",
   "pygments_lexer": "ipython3",
   "version": "3.8.19"
  }
 },
 "nbformat": 4,
 "nbformat_minor": 2
}
